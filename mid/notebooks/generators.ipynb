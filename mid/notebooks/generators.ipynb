{
 "cells": [
  {
   "cell_type": "markdown",
   "metadata": {},
   "source": [
    "# Uniform distribution Generators"
   ]
  },
  {
   "cell_type": "markdown",
   "metadata": {},
   "source": [
    "## Setup"
   ]
  },
  {
   "cell_type": "markdown",
   "metadata": {},
   "source": [
    "### Standard library imports"
   ]
  },
  {
   "cell_type": "code",
   "execution_count": 1,
   "metadata": {},
   "outputs": [],
   "source": [
    "%load_ext autoreload"
   ]
  },
  {
   "cell_type": "code",
   "execution_count": 2,
   "metadata": {},
   "outputs": [],
   "source": [
    "import sys\n",
    "import warnings\n",
    "import logging\n",
    "\n",
    "sys.path.append('..')\n",
    "warnings.filterwarnings('ignore')\n",
    "logger = logging.getLogger(__name__)"
   ]
  },
  {
   "cell_type": "markdown",
   "metadata": {},
   "source": [
    "### Standard library imports"
   ]
  },
  {
   "cell_type": "code",
   "execution_count": 3,
   "metadata": {},
   "outputs": [],
   "source": [
    "import os\n",
    "from itertools import product"
   ]
  },
  {
   "cell_type": "markdown",
   "metadata": {},
   "source": [
    "### Thrid Party libraries imports"
   ]
  },
  {
   "cell_type": "code",
   "execution_count": 4,
   "metadata": {},
   "outputs": [],
   "source": [
    "import numpy as np\n",
    "import pandas as pd\n",
    "from matplotlib import pyplot as plt\n",
    "from scipy.stats import chisquare\n",
    "from tqdm import tqdm"
   ]
  },
  {
   "cell_type": "markdown",
   "metadata": {},
   "source": [
    "### Modules imports"
   ]
  },
  {
   "cell_type": "code",
   "execution_count": 30,
   "metadata": {},
   "outputs": [],
   "source": [
    "%autoreload 2\n",
    "\n",
    "from source.generators.linear import random_distribution\n",
    "from source import distributions"
   ]
  },
  {
   "cell_type": "markdown",
   "metadata": {},
   "source": [
    "### Default parameters histograms "
   ]
  },
  {
   "cell_type": "code",
   "execution_count": 31,
   "metadata": {},
   "outputs": [],
   "source": [
    "generator_keys = ('uniform', 'sine', 'sawtooth', 'fibonacci')"
   ]
  },
  {
   "cell_type": "code",
   "execution_count": 32,
   "metadata": {},
   "outputs": [
    {
     "data": {
      "text/plain": [
       "<Figure size 864x432 with 0 Axes>"
      ]
     },
     "metadata": {},
     "output_type": "display_data"
    }
   ],
   "source": [
    "plt.figure(figsize=(12, 6))\n",
    "\n",
    "for generator in generator_keys:\n",
    "    plt.hist(random_distribution(10_000, generator), bins=20)\n",
    "    plt.grid()\n",
    "    plt.title(generator, fontsize=16)\n",
    "    plt.savefig(os.path.join(r'..\\\\images\\\\generators', 'default_' + generator + '.png'))\n",
    "    plt.clf()"
   ]
  },
  {
   "cell_type": "markdown",
   "metadata": {},
   "source": [
    "### Test generators\n",
    "\n",
    "Testing generators with large number of samples to check if variables are in fact uniformly distributed"
   ]
  },
  {
   "cell_type": "code",
   "execution_count": 42,
   "metadata": {},
   "outputs": [
    {
     "name": "stdout",
     "output_type": "stream",
     "text": [
      "Chi^2 test for uniform\n",
      "Statistic: 1649.61\n",
      "P Value: 1.00\n",
      "\n",
      "Chi^2 test for sine\n",
      "Statistic: 2207.60\n",
      "P Value: 1.00\n",
      "\n",
      "Chi^2 test for sawtooth\n",
      "Statistic: 1650.27\n",
      "P Value: 1.00\n",
      "\n",
      "Chi^2 test for fibonacci\n",
      "Statistic: 1666.11\n",
      "P Value: 1.00\n",
      "\n"
     ]
    }
   ],
   "source": [
    "for generator in ('uniform', 'sine', 'sawtooth', 'fibonacci'):\n",
    "    chisquared_result = chisquare(random_distribution(10_000, generator))\n",
    "    print(f\"Chi^2 test for {generator}\\nStatistic: {chisquared_result[0]:.2f}\\nP Value: {chisquared_result[1]:.2f}\", end=\"\\n\\n\")"
   ]
  },
  {
   "cell_type": "code",
   "execution_count": 67,
   "metadata": {},
   "outputs": [
    {
     "name": "stdout",
     "output_type": "stream",
     "text": [
      "Chi^2 test for uniform\n",
      "Statistic: 1.30\n",
      "P Value: 1.00\n",
      "\n",
      "Chi^2 test for sine\n",
      "Statistic: 2.84\n",
      "P Value: 0.97\n",
      "\n",
      "Chi^2 test for sawtooth\n",
      "Statistic: 1.48\n",
      "P Value: 1.00\n",
      "\n",
      "Chi^2 test for fibonacci\n",
      "Statistic: 0.04\n",
      "P Value: 1.00\n",
      "\n"
     ]
    }
   ],
   "source": [
    "for generator in ('uniform', 'sine', 'sawtooth', 'fibonacci'):\n",
    "    chisquared_result = chisquare(random_distribution(10, generator))\n",
    "    print(f\"Chi^2 test for {generator}\\nStatistic: {chisquared_result[0]:.2f}\\nP Value: {chisquared_result[1]:.2f}\", end=\"\\n\\n\")"
   ]
  },
  {
   "cell_type": "markdown",
   "metadata": {},
   "source": [
    "### Test starting points for periodic generators\n",
    "\n",
    "Test different samples in sinusoidal and sawtooth arrays to check wheater they will results in expected behaviour and return uniform distributions"
   ]
  },
  {
   "cell_type": "code",
   "execution_count": 71,
   "metadata": {},
   "outputs": [],
   "source": [
    "starting_points = 0.1 * np.arange(0, 11)\n",
    "frequencies = np.pi * np.arange(0, 10)\n",
    "samples = np.linspace(10, 100_000, 40, dtype=np.int)"
   ]
  },
  {
   "cell_type": "code",
   "execution_count": 34,
   "metadata": {},
   "outputs": [
    {
     "data": {
      "text/plain": [
       "<Figure size 432x288 with 0 Axes>"
      ]
     },
     "metadata": {},
     "output_type": "display_data"
    }
   ],
   "source": [
    "for starting_point, frequency in product(starting_points, frequencies):\n",
    "    plt.hist(random_distribution(10_000, 'sine', omega=frequency, first_sample=starting_point), bins=20)\n",
    "    plt.grid()\n",
    "    plt.title(generator, fontsize=16)\n",
    "    plt.savefig(os.path.join(\n",
    "        r'..\\\\images\\\\generators',\n",
    "        'sine_' + '_x0=' + str(round(starting_point, 2)) + '_omega=' + str(round(frequency, 2)) + '.png'))\n",
    "    plt.clf()"
   ]
  },
  {
   "cell_type": "code",
   "execution_count": 35,
   "metadata": {},
   "outputs": [
    {
     "data": {
      "text/plain": [
       "<Figure size 432x288 with 0 Axes>"
      ]
     },
     "metadata": {},
     "output_type": "display_data"
    }
   ],
   "source": [
    "for starting_point, frequency in product(starting_points, frequencies):\n",
    "    plt.hist(random_distribution(10_000, 'sawtooth', period=frequency, first_sample=starting_point), bins=20)\n",
    "    plt.grid()\n",
    "    plt.title(generator, fontsize=16)\n",
    "    plt.savefig(os.path.join(\n",
    "        r'..\\\\images\\\\generators',\n",
    "        'sawtooth_' + '_x0=' + str(round(starting_point, 2)) + '_omega=' + str(round(frequency, 2)) + '.png')\n",
    "               )\n",
    "    plt.clf()"
   ]
  },
  {
   "cell_type": "markdown",
   "metadata": {},
   "source": [
    "### Aggretating Chi^2 for perdioc generators"
   ]
  },
  {
   "cell_type": "code",
   "execution_count": 72,
   "metadata": {},
   "outputs": [
    {
     "data": {
      "text/plain": [
       "'Running 8800 iterations'"
      ]
     },
     "execution_count": 72,
     "metadata": {},
     "output_type": "execute_result"
    }
   ],
   "source": [
    "f\"Running {2 * samples.shape[0] * starting_points.shape[0] * frequencies.shape[0]} iterations\""
   ]
  },
  {
   "cell_type": "code",
   "execution_count": null,
   "metadata": {},
   "outputs": [
    {
     "name": "stderr",
     "output_type": "stream",
     "text": [
      "4030it [10:55,  2.79it/s] "
     ]
    }
   ],
   "source": [
    "results = []\n",
    "for generator, (n_samples, (starting_point, frequency)) in tqdm(\n",
    "    product(('sine', 'sawtooth'),\n",
    "            product(samples,\n",
    "                    product(starting_points, frequencies)\n",
    "                   )\n",
    "           )\n",
    "):\n",
    "    # Compute chi^2 for each distribution\n",
    "    distribution = random_distribution(n_samples, generator, omega=frequency, first_sample=starting_point)\n",
    "    chi_2 = chisquare(distribution)\n",
    "    results.append([generator, starting_point, frequencies, n_samples, chi_2[0], chi_2[1]])"
   ]
  },
  {
   "cell_type": "code",
   "execution_count": null,
   "metadata": {},
   "outputs": [],
   "source": [
    "df_chi_squared_results = pd.DataFrame.from_records(results, columns=['generator', 'starting_point', 'omega', 'chi_2_statistic', 'chi_2_p_value'])"
   ]
  },
  {
   "cell_type": "markdown",
   "metadata": {},
   "source": [
    "### Testing the fibonacci generator"
   ]
  },
  {
   "cell_type": "code",
   "execution_count": 73,
   "metadata": {},
   "outputs": [],
   "source": [
    "pq_pairs = (\n",
    "    (8, 4),\n",
    "    (100, 5),\n",
    "    (100, 96),\n",
    ")"
   ]
  },
  {
   "cell_type": "code",
   "execution_count": null,
   "metadata": {},
   "outputs": [],
   "source": [
    "for p, q in pq_pairs:\n",
    "    plt.hist(random_distribution(10_000, 'fibonacci', p=p, q=q), bins=20)\n",
    "    plt.grid()\n",
    "    plt.title(fibonacci, fontsize=16)\n",
    "    plt.savefig(os.path.join(\n",
    "        r'..\\\\images\\\\generators',\n",
    "        'fibonacci' + '_p=' + str(p) + '_q=' + str(q) + '.png')\n",
    "               )\n",
    "    plt.clf()"
   ]
  },
  {
   "cell_type": "markdown",
   "metadata": {},
   "source": [
    "### Aggregating Chi^2 stats"
   ]
  },
  {
   "cell_type": "code",
   "execution_count": 77,
   "metadata": {},
   "outputs": [],
   "source": [
    "samples = np.linspace(10, 100_000, 40, dtype=np.int)"
   ]
  },
  {
   "cell_type": "code",
   "execution_count": null,
   "metadata": {},
   "outputs": [
    {
     "name": "stderr",
     "output_type": "stream",
     "text": [
      "114it [05:15, 14.01s/it]"
     ]
    }
   ],
   "source": [
    "results = []\n",
    "for generator, n_samples in tqdm(product(('sine', 'sawtooth', 'fibonacci'), samples)):\n",
    "    chisquared_result = chisquare(random_distribution(n_samples, generator))\n",
    "    results.append([generator, n_samples, chiaquared_result[0], chiaquared_result[1]])"
   ]
  },
  {
   "cell_type": "code",
   "execution_count": null,
   "metadata": {},
   "outputs": [],
   "source": [
    "pd.DataFrame.from_records(results, columns=['generator', 'n_samples', 'chi2_stat', 'chi2_p_value'])"
   ]
  },
  {
   "cell_type": "code",
   "execution_count": null,
   "metadata": {},
   "outputs": [],
   "source": []
  }
 ],
 "metadata": {
  "kernelspec": {
   "display_name": "Python 3",
   "language": "python",
   "name": "python3"
  },
  "language_info": {
   "codemirror_mode": {
    "name": "ipython",
    "version": 3
   },
   "file_extension": ".py",
   "mimetype": "text/x-python",
   "name": "python",
   "nbconvert_exporter": "python",
   "pygments_lexer": "ipython3",
   "version": "3.6.9"
  }
 },
 "nbformat": 4,
 "nbformat_minor": 4
}
