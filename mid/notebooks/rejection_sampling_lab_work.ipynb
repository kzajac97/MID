{
 "cells": [
  {
   "cell_type": "markdown",
   "metadata": {},
   "source": [
    "# Template Notebook"
   ]
  },
  {
   "cell_type": "markdown",
   "metadata": {},
   "source": [
    "## Setup"
   ]
  },
  {
   "cell_type": "markdown",
   "metadata": {},
   "source": [
    "### Standard library imports"
   ]
  },
  {
   "cell_type": "code",
   "execution_count": null,
   "metadata": {},
   "outputs": [],
   "source": [
    "%load_ext autoreload"
   ]
  },
  {
   "cell_type": "code",
   "execution_count": null,
   "metadata": {},
   "outputs": [],
   "source": [
    "import sys\n",
    "import warnings\n",
    "import logging\n",
    "\n",
    "sys.path.append('..')\n",
    "warnings.filterwarnings('ignore')\n",
    "logger = logging.getLogger(__name__)"
   ]
  },
  {
   "cell_type": "markdown",
   "metadata": {},
   "source": [
    "### Standard library imports"
   ]
  },
  {
   "cell_type": "code",
   "execution_count": null,
   "metadata": {},
   "outputs": [],
   "source": []
  },
  {
   "cell_type": "markdown",
   "metadata": {},
   "source": [
    "### Thrid Party libraries imports"
   ]
  },
  {
   "cell_type": "code",
   "execution_count": null,
   "metadata": {},
   "outputs": [],
   "source": [
    "import numpy as np\n",
    "# from scipy.stats import kstest, triang, ks_2samp\n",
    "from matplotlib import pyplot as plt\n",
    "from sklearn.preprocessing import MinMaxScaler\n",
    "import pandas as pd\n",
    "import seaborn as sns"
   ]
  },
  {
   "cell_type": "markdown",
   "metadata": {},
   "source": [
    "### Modules imports"
   ]
  },
  {
   "cell_type": "code",
   "execution_count": null,
   "metadata": {},
   "outputs": [],
   "source": [
    "%autoreload 2\n",
    "\n",
    "from source.generators.rejection import rejection_sampling_distribution"
   ]
  },
  {
   "cell_type": "markdown",
   "metadata": {},
   "source": [
    "### Paths"
   ]
  },
  {
   "cell_type": "code",
   "execution_count": null,
   "metadata": {},
   "outputs": [],
   "source": [
    "def task_distribution(x):\n",
    "    if x < 0:\n",
    "        return 0\n",
    "\n",
    "    if x < 300:\n",
    "        return 3\n",
    "    \n",
    "    if x < 600:\n",
    "        return 1\n",
    "\n",
    "    if x <= 900:\n",
    "        return 2"
   ]
  },
  {
   "cell_type": "code",
   "execution_count": null,
   "metadata": {},
   "outputs": [],
   "source": [
    "def task_accpetance(x, y):\n",
    "    if x < 300:\n",
    "        return True if y < 3 else False\n",
    "    \n",
    "    if x < 600 and x > 300:\n",
    "        return True if y < 1 else False\n",
    "\n",
    "    if x < 900 and x > 600:\n",
    "        return True if y < 2 else False"
   ]
  },
  {
   "cell_type": "code",
   "execution_count": null,
   "metadata": {},
   "outputs": [],
   "source": [
    "plt.figure(figsize=[20, 8])\n",
    "\n",
    "t = np.linspace(0, 900, 10_000)\n",
    "plt.plot(t, np.array([task_distribution(point) for point in t]), linewidth=2)\n",
    "\n",
    "plt.grid()\n",
    "plt.ylim([0, 4])\n",
    "# plt.savefig(r'../images/generators/rejection/any_distribution.png')"
   ]
  },
  {
   "cell_type": "code",
   "execution_count": null,
   "metadata": {},
   "outputs": [],
   "source": [
    "t = np.linspace(0, 900, 10_000)\n",
    "dist = np.array([task_distribution(point) for point in t])"
   ]
  },
  {
   "cell_type": "code",
   "execution_count": null,
   "metadata": {},
   "outputs": [],
   "source": [
    "def rejection_sampler(distribution, acceptance):\n",
    "    while True:\n",
    "        x_sample = 900 * np.random.rand()\n",
    "        y_sample = 10 * np.random.rand()\n",
    "        if acceptance(x_sample, y_sample):\n",
    "            return x_sample"
   ]
  },
  {
   "cell_type": "code",
   "execution_count": null,
   "metadata": {},
   "outputs": [],
   "source": [
    "random_dist = [rejection_sampler(task_distribution, task_accpetance) for _ in range(10_000)]"
   ]
  },
  {
   "cell_type": "code",
   "execution_count": null,
   "metadata": {},
   "outputs": [],
   "source": [
    "figure = plt.figure(figsize=[20, 8])\n",
    "\n",
    "plt.hist(random_dist, bins=20)\n",
    "\n",
    "plt.grid()\n",
    "\n",
    "# plt.savefig(r'../images/rejection/hist.png')"
   ]
  },
  {
   "cell_type": "code",
   "execution_count": null,
   "metadata": {},
   "outputs": [],
   "source": [
    "random_dist = rejection_sampling_distribution(\n",
    "    n_samples=1000,\n",
    "    acceptance=task_accpetance,\n",
    "    x_sampler=lambda: 900*np.random.rand(),\n",
    "    y_sampler=lambda: 3*np.random.rand(),\n",
    ")"
   ]
  },
  {
   "cell_type": "code",
   "execution_count": null,
   "metadata": {},
   "outputs": [],
   "source": [
    "ks_2samp(random_dist, np.array([task_distribution(point) for point in np.linspace(0, 900, 10)]))"
   ]
  },
  {
   "cell_type": "code",
   "execution_count": null,
   "metadata": {},
   "outputs": [],
   "source": [
    "benchmark_dist = np.array([task_distribution(point) for point in np.linspace(0, 900, 1000)])"
   ]
  },
  {
   "cell_type": "code",
   "execution_count": null,
   "metadata": {},
   "outputs": [],
   "source": [
    "scaler = MinMaxScaler()"
   ]
  },
  {
   "cell_type": "code",
   "execution_count": null,
   "metadata": {},
   "outputs": [],
   "source": [
    "random_dist = random_dist.reshape(-1, 1)\n",
    "benchmark_dist = benchmark_dist.reshape(-1, 1)"
   ]
  },
  {
   "cell_type": "code",
   "execution_count": null,
   "metadata": {},
   "outputs": [],
   "source": [
    "random_dist = scaler.fit_transform(random_dist)\n",
    "benchmark_dist = scaler.fit_transform(benchmark_dist)"
   ]
  },
  {
   "cell_type": "code",
   "execution_count": null,
   "metadata": {},
   "outputs": [],
   "source": [
    "ks_2samp(random_dist.reshape(random_dist.shape[0]), benchmark_dist.reshape(benchmark_dist.shape[0]))"
   ]
  },
  {
   "cell_type": "code",
   "execution_count": null,
   "metadata": {},
   "outputs": [],
   "source": [
    "random_dist = rejection_sampling_distribution(\n",
    "    n_samples=10_000,\n",
    "    acceptance=task_accpetance,\n",
    "    x_sampler=lambda: 900*np.random.rand(),\n",
    "    y_sampler=lambda: 3*np.random.rand(),\n",
    ")"
   ]
  },
  {
   "cell_type": "code",
   "execution_count": null,
   "metadata": {},
   "outputs": [],
   "source": [
    "figre = plt.figure(figsize=[20, 8])\n",
    "\n",
    "sns.kdeplot(random_dist, cumulative=True, shade=True)\n",
    "\n",
    "plt.grid()\n",
    "\n",
    "plt.savefig('../images/generators/rejection/line_ecdf.png')"
   ]
  },
  {
   "cell_type": "code",
   "execution_count": null,
   "metadata": {},
   "outputs": [],
   "source": []
  }
 ],
 "metadata": {
  "kernelspec": {
   "display_name": "Python 3",
   "language": "python",
   "name": "python3"
  },
  "language_info": {
   "codemirror_mode": {
    "name": "ipython",
    "version": 3
   },
   "file_extension": ".py",
   "mimetype": "text/x-python",
   "name": "python",
   "nbconvert_exporter": "python",
   "pygments_lexer": "ipython3",
   "version": "3.6.9"
  }
 },
 "nbformat": 4,
 "nbformat_minor": 4
}
