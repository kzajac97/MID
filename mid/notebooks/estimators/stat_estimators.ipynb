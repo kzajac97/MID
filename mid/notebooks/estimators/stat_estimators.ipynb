{
 "cells": [
  {
   "cell_type": "markdown",
   "metadata": {},
   "source": [
    "# Template Notebook"
   ]
  },
  {
   "cell_type": "markdown",
   "metadata": {},
   "source": [
    "## Setup"
   ]
  },
  {
   "cell_type": "markdown",
   "metadata": {},
   "source": [
    "### Standard library imports"
   ]
  },
  {
   "cell_type": "code",
   "execution_count": 20,
   "metadata": {},
   "outputs": [
    {
     "name": "stdout",
     "output_type": "stream",
     "text": [
      "The autoreload extension is already loaded. To reload it, use:\n",
      "  %reload_ext autoreload\n"
     ]
    }
   ],
   "source": [
    "%load_ext autoreload"
   ]
  },
  {
   "cell_type": "code",
   "execution_count": 4,
   "metadata": {},
   "outputs": [],
   "source": [
    "import sys\n",
    "import warnings\n",
    "import logging\n",
    "\n",
    "sys.path.append('../..')\n",
    "warnings.filterwarnings('ignore')\n",
    "logger = logging.getLogger(__name__)"
   ]
  },
  {
   "cell_type": "markdown",
   "metadata": {},
   "source": [
    "### Imports "
   ]
  },
  {
   "cell_type": "code",
   "execution_count": 118,
   "metadata": {},
   "outputs": [],
   "source": [
    "%autoreload 2\n",
    "\n",
    "from itertools import product\n",
    "\n",
    "import numpy as np\n",
    "import pandas as pd\n",
    "import seaborn as sns\n",
    "from matplotlib import pyplot as plt\n",
    "from scipy import stats\n",
    "from sklearn import metrics\n",
    "from sklearn import covariance\n",
    "from tqdm import tqdm\n",
    "\n",
    "from source.generators.rejection import \n",
    "from source.estimators.evaluate import evaluate_estimate\n",
    "from source.estimators.stats import (\n",
    "    estimate_expectation,\n",
    "    estimate_variance,\n",
    "    estimate_covariance,\n",
    "    estimate_correlation,\n",
    ")"
   ]
  },
  {
   "cell_type": "code",
   "execution_count": 69,
   "metadata": {},
   "outputs": [],
   "source": [
    "sns.set()"
   ]
  },
  {
   "cell_type": "code",
   "execution_count": 16,
   "metadata": {},
   "outputs": [],
   "source": [
    "n_samples = [10, 100, 1000, 10_000]\n",
    "distributions = {\"normal\": stats.norm,\n",
    "                 \"exponential\": stats.expon,\n",
    "                 \"cauchy\": stats.cauchy}"
   ]
  },
  {
   "cell_type": "code",
   "execution_count": 114,
   "metadata": {},
   "outputs": [
    {
     "name": "stderr",
     "output_type": "stream",
     "text": [
      "12it [00:03,  2.36it/s]\n"
     ]
    }
   ],
   "source": [
    "results = []\n",
    "for samples, distribution in tqdm(product(n_samples, distributions.keys())):\n",
    "    error = evaluate_estimate(\n",
    "        estimator=estimate_expectation,\n",
    "        distribution=distributions[distribution],\n",
    "        true_value=distributions[distribution].expect(),\n",
    "        n_samples=samples,\n",
    "        n_trials=1000,\n",
    "        silent=True,\n",
    "        metric=\"mse\",\n",
    "    )\n",
    "    results.append([distribution, samples, error])"
   ]
  },
  {
   "cell_type": "code",
   "execution_count": 28,
   "metadata": {},
   "outputs": [
    {
     "data": {
      "text/html": [
       "<div>\n",
       "<style scoped>\n",
       "    .dataframe tbody tr th:only-of-type {\n",
       "        vertical-align: middle;\n",
       "    }\n",
       "\n",
       "    .dataframe tbody tr th {\n",
       "        vertical-align: top;\n",
       "    }\n",
       "\n",
       "    .dataframe thead th {\n",
       "        text-align: right;\n",
       "    }\n",
       "</style>\n",
       "<table border=\"1\" class=\"dataframe\">\n",
       "  <thead>\n",
       "    <tr style=\"text-align: right;\">\n",
       "      <th></th>\n",
       "      <th>distribution</th>\n",
       "      <th>n_samples</th>\n",
       "      <th>error_value</th>\n",
       "    </tr>\n",
       "  </thead>\n",
       "  <tbody>\n",
       "    <tr>\n",
       "      <th>0</th>\n",
       "      <td>normal</td>\n",
       "      <td>10</td>\n",
       "      <td>1.039358e-01</td>\n",
       "    </tr>\n",
       "    <tr>\n",
       "      <th>1</th>\n",
       "      <td>exponential</td>\n",
       "      <td>10</td>\n",
       "      <td>9.749172e-02</td>\n",
       "    </tr>\n",
       "    <tr>\n",
       "      <th>2</th>\n",
       "      <td>cauchy</td>\n",
       "      <td>10</td>\n",
       "      <td>9.391161e+02</td>\n",
       "    </tr>\n",
       "    <tr>\n",
       "      <th>3</th>\n",
       "      <td>normal</td>\n",
       "      <td>100</td>\n",
       "      <td>1.010307e-02</td>\n",
       "    </tr>\n",
       "    <tr>\n",
       "      <th>4</th>\n",
       "      <td>exponential</td>\n",
       "      <td>100</td>\n",
       "      <td>1.029003e-02</td>\n",
       "    </tr>\n",
       "    <tr>\n",
       "      <th>5</th>\n",
       "      <td>cauchy</td>\n",
       "      <td>100</td>\n",
       "      <td>8.595124e+01</td>\n",
       "    </tr>\n",
       "    <tr>\n",
       "      <th>6</th>\n",
       "      <td>normal</td>\n",
       "      <td>1000</td>\n",
       "      <td>9.711193e-04</td>\n",
       "    </tr>\n",
       "    <tr>\n",
       "      <th>7</th>\n",
       "      <td>exponential</td>\n",
       "      <td>1000</td>\n",
       "      <td>1.019681e-03</td>\n",
       "    </tr>\n",
       "    <tr>\n",
       "      <th>8</th>\n",
       "      <td>cauchy</td>\n",
       "      <td>1000</td>\n",
       "      <td>3.015860e+03</td>\n",
       "    </tr>\n",
       "    <tr>\n",
       "      <th>9</th>\n",
       "      <td>normal</td>\n",
       "      <td>10000</td>\n",
       "      <td>1.005736e-04</td>\n",
       "    </tr>\n",
       "    <tr>\n",
       "      <th>10</th>\n",
       "      <td>exponential</td>\n",
       "      <td>10000</td>\n",
       "      <td>9.723419e-05</td>\n",
       "    </tr>\n",
       "    <tr>\n",
       "      <th>11</th>\n",
       "      <td>cauchy</td>\n",
       "      <td>10000</td>\n",
       "      <td>8.477370e+09</td>\n",
       "    </tr>\n",
       "  </tbody>\n",
       "</table>\n",
       "</div>"
      ],
      "text/plain": [
       "   distribution  n_samples   error_value\n",
       "0        normal         10  1.039358e-01\n",
       "1   exponential         10  9.749172e-02\n",
       "2        cauchy         10  9.391161e+02\n",
       "3        normal        100  1.010307e-02\n",
       "4   exponential        100  1.029003e-02\n",
       "5        cauchy        100  8.595124e+01\n",
       "6        normal       1000  9.711193e-04\n",
       "7   exponential       1000  1.019681e-03\n",
       "8        cauchy       1000  3.015860e+03\n",
       "9        normal      10000  1.005736e-04\n",
       "10  exponential      10000  9.723419e-05\n",
       "11       cauchy      10000  8.477370e+09"
      ]
     },
     "execution_count": 28,
     "metadata": {},
     "output_type": "execute_result"
    }
   ],
   "source": [
    "pd.DataFrame.from_records(results, columns=[\"distribution\", \"n_samples\", \"error_value\"])"
   ]
  },
  {
   "cell_type": "code",
   "execution_count": 102,
   "metadata": {},
   "outputs": [],
   "source": [
    "distributions = {\"normal\": stats.norm,\n",
    "                 \"exponential\": stats.expon,\n",
    "                 \"laplace\": stats.laplace}\n",
    "\n",
    "bias = [True, False]"
   ]
  },
  {
   "cell_type": "code",
   "execution_count": 107,
   "metadata": {},
   "outputs": [
    {
     "name": "stderr",
     "output_type": "stream",
     "text": [
      "12it [00:05,  1.15it/s]\n"
     ]
    }
   ],
   "source": [
    "results = []\n",
    "for samples, distribution in tqdm(product(n_samples, distributions.keys())):\n",
    "    error = evaluate_estimate(\n",
    "        estimator=estimate_variance,\n",
    "        distribution=distributions[distribution],\n",
    "        true_value=distributions[distribution].var(),\n",
    "        n_samples=samples,\n",
    "        n_trials=1000,\n",
    "        silent=True,\n",
    "        metric=\"mse\",\n",
    "    )\n",
    "    results.append([distribution, samples, error])"
   ]
  },
  {
   "cell_type": "code",
   "execution_count": 109,
   "metadata": {},
   "outputs": [
    {
     "data": {
      "text/html": [
       "<div>\n",
       "<style scoped>\n",
       "    .dataframe tbody tr th:only-of-type {\n",
       "        vertical-align: middle;\n",
       "    }\n",
       "\n",
       "    .dataframe tbody tr th {\n",
       "        vertical-align: top;\n",
       "    }\n",
       "\n",
       "    .dataframe thead th {\n",
       "        text-align: right;\n",
       "    }\n",
       "</style>\n",
       "<table border=\"1\" class=\"dataframe\">\n",
       "  <thead>\n",
       "    <tr style=\"text-align: right;\">\n",
       "      <th></th>\n",
       "      <th>distribution</th>\n",
       "      <th>n_samples</th>\n",
       "      <th>error_value</th>\n",
       "    </tr>\n",
       "  </thead>\n",
       "  <tbody>\n",
       "    <tr>\n",
       "      <th>0</th>\n",
       "      <td>normal</td>\n",
       "      <td>10</td>\n",
       "      <td>0.233945</td>\n",
       "    </tr>\n",
       "    <tr>\n",
       "      <th>1</th>\n",
       "      <td>exponential</td>\n",
       "      <td>10</td>\n",
       "      <td>0.722981</td>\n",
       "    </tr>\n",
       "    <tr>\n",
       "      <th>2</th>\n",
       "      <td>laplace</td>\n",
       "      <td>10</td>\n",
       "      <td>2.134262</td>\n",
       "    </tr>\n",
       "    <tr>\n",
       "      <th>3</th>\n",
       "      <td>normal</td>\n",
       "      <td>100</td>\n",
       "      <td>0.020608</td>\n",
       "    </tr>\n",
       "    <tr>\n",
       "      <th>4</th>\n",
       "      <td>exponential</td>\n",
       "      <td>100</td>\n",
       "      <td>0.089379</td>\n",
       "    </tr>\n",
       "    <tr>\n",
       "      <th>5</th>\n",
       "      <td>laplace</td>\n",
       "      <td>100</td>\n",
       "      <td>0.187060</td>\n",
       "    </tr>\n",
       "    <tr>\n",
       "      <th>6</th>\n",
       "      <td>normal</td>\n",
       "      <td>1000</td>\n",
       "      <td>0.002047</td>\n",
       "    </tr>\n",
       "    <tr>\n",
       "      <th>7</th>\n",
       "      <td>exponential</td>\n",
       "      <td>1000</td>\n",
       "      <td>0.008027</td>\n",
       "    </tr>\n",
       "    <tr>\n",
       "      <th>8</th>\n",
       "      <td>laplace</td>\n",
       "      <td>1000</td>\n",
       "      <td>0.019773</td>\n",
       "    </tr>\n",
       "    <tr>\n",
       "      <th>9</th>\n",
       "      <td>normal</td>\n",
       "      <td>10000</td>\n",
       "      <td>0.000218</td>\n",
       "    </tr>\n",
       "    <tr>\n",
       "      <th>10</th>\n",
       "      <td>exponential</td>\n",
       "      <td>10000</td>\n",
       "      <td>0.000863</td>\n",
       "    </tr>\n",
       "    <tr>\n",
       "      <th>11</th>\n",
       "      <td>laplace</td>\n",
       "      <td>10000</td>\n",
       "      <td>0.001885</td>\n",
       "    </tr>\n",
       "  </tbody>\n",
       "</table>\n",
       "</div>"
      ],
      "text/plain": [
       "   distribution  n_samples  error_value\n",
       "0        normal         10     0.233945\n",
       "1   exponential         10     0.722981\n",
       "2       laplace         10     2.134262\n",
       "3        normal        100     0.020608\n",
       "4   exponential        100     0.089379\n",
       "5       laplace        100     0.187060\n",
       "6        normal       1000     0.002047\n",
       "7   exponential       1000     0.008027\n",
       "8       laplace       1000     0.019773\n",
       "9        normal      10000     0.000218\n",
       "10  exponential      10000     0.000863\n",
       "11      laplace      10000     0.001885"
      ]
     },
     "execution_count": 109,
     "metadata": {},
     "output_type": "execute_result"
    }
   ],
   "source": [
    "pd.DataFrame.from_records(results, columns=[\"distribution\", \"n_samples\", \"error_value\"])"
   ]
  },
  {
   "cell_type": "code",
   "execution_count": 59,
   "metadata": {},
   "outputs": [
    {
     "data": {
      "text/plain": [
       "1.0277015781868277"
      ]
     },
     "execution_count": 59,
     "metadata": {},
     "output_type": "execute_result"
    }
   ],
   "source": [
    "estimate_variance(stats.norm.rvs(size=1000), biased=True)"
   ]
  },
  {
   "cell_type": "code",
   "execution_count": 97,
   "metadata": {},
   "outputs": [
    {
     "name": "stderr",
     "output_type": "stream",
     "text": [
      "100%|█████████████████████████████████████████████████████████████████████████████████████████████████████████████████████████████████████████████████████████████████████████████████████████████████████| 10/10 [00:00<00:00, 1998.43it/s]\n"
     ]
    }
   ],
   "source": [
    "values = []\n",
    "values_biased = []\n",
    "for samples in tqdm(np.linspace(10, 1000, 10)):\n",
    "    values.append(estimate_variance(stats.norm.rvs(size=1000)))\n",
    "    values_biased.append(estimate_variance(stats.norm.rvs(size=1000), biased=True))"
   ]
  },
  {
   "cell_type": "code",
   "execution_count": 101,
   "metadata": {},
   "outputs": [
    {
     "data": {
      "image/png": "[encoded data removed]",
      "text/plain": [
       "<Figure size 1152x576 with 1 Axes>"
      ]
     },
     "metadata": {},
     "output_type": "display_data"
    }
   ],
   "source": [
    "figure = plt.figure(figsize=[16, 8])\n",
    "\n",
    "# sns.regplot(np.linspace(10, 1000, 10), values, order=1, scatter_kws={\"s\": 80})\n",
    "sns.regplot(np.linspace(10, 1000, 10), values_biased, order=1, scatter_kws={\"s\": 80}, color=\"r\")\n",
    "_ = plt.ylim([0.75, 1.25])\n",
    "plt.savefig(\"../../images/estimates/variance_reg_with_bias.png\")"
   ]
  },
  {
   "cell_type": "code",
   "execution_count": 116,
   "metadata": {},
   "outputs": [
    {
     "name": "stderr",
     "output_type": "stream",
     "text": [
      "12it [00:05,  1.16it/s]\n"
     ]
    }
   ],
   "source": [
    "results = []\n",
    "for samples, distribution in tqdm(product(n_samples, distributions.keys())):\n",
    "    error = evaluate_estimate(\n",
    "        estimator=estimate_variance,\n",
    "        distribution=distributions[distribution],\n",
    "        true_value=distributions[distribution].var(),\n",
    "        n_samples=samples,\n",
    "        n_trials=1000,\n",
    "        silent=True,\n",
    "        metric=\"mse\",\n",
    "    )\n",
    "    results.append([distribution, samples, error])"
   ]
  },
  {
   "cell_type": "code",
   "execution_count": 117,
   "metadata": {},
   "outputs": [
    {
     "data": {
      "text/html": [
       "<div>\n",
       "<style scoped>\n",
       "    .dataframe tbody tr th:only-of-type {\n",
       "        vertical-align: middle;\n",
       "    }\n",
       "\n",
       "    .dataframe tbody tr th {\n",
       "        vertical-align: top;\n",
       "    }\n",
       "\n",
       "    .dataframe thead th {\n",
       "        text-align: right;\n",
       "    }\n",
       "</style>\n",
       "<table border=\"1\" class=\"dataframe\">\n",
       "  <thead>\n",
       "    <tr style=\"text-align: right;\">\n",
       "      <th></th>\n",
       "      <th>distribution</th>\n",
       "      <th>n_samples</th>\n",
       "      <th>error_value</th>\n",
       "    </tr>\n",
       "  </thead>\n",
       "  <tbody>\n",
       "    <tr>\n",
       "      <th>0</th>\n",
       "      <td>normal</td>\n",
       "      <td>10</td>\n",
       "      <td>0.190318</td>\n",
       "    </tr>\n",
       "    <tr>\n",
       "      <th>1</th>\n",
       "      <td>exponential</td>\n",
       "      <td>10</td>\n",
       "      <td>0.653938</td>\n",
       "    </tr>\n",
       "    <tr>\n",
       "      <th>2</th>\n",
       "      <td>laplace</td>\n",
       "      <td>10</td>\n",
       "      <td>1.634741</td>\n",
       "    </tr>\n",
       "    <tr>\n",
       "      <th>3</th>\n",
       "      <td>normal</td>\n",
       "      <td>100</td>\n",
       "      <td>0.019721</td>\n",
       "    </tr>\n",
       "    <tr>\n",
       "      <th>4</th>\n",
       "      <td>exponential</td>\n",
       "      <td>100</td>\n",
       "      <td>0.084854</td>\n",
       "    </tr>\n",
       "    <tr>\n",
       "      <th>5</th>\n",
       "      <td>laplace</td>\n",
       "      <td>100</td>\n",
       "      <td>0.203962</td>\n",
       "    </tr>\n",
       "    <tr>\n",
       "      <th>6</th>\n",
       "      <td>normal</td>\n",
       "      <td>1000</td>\n",
       "      <td>0.002040</td>\n",
       "    </tr>\n",
       "    <tr>\n",
       "      <th>7</th>\n",
       "      <td>exponential</td>\n",
       "      <td>1000</td>\n",
       "      <td>0.007414</td>\n",
       "    </tr>\n",
       "    <tr>\n",
       "      <th>8</th>\n",
       "      <td>laplace</td>\n",
       "      <td>1000</td>\n",
       "      <td>0.018635</td>\n",
       "    </tr>\n",
       "    <tr>\n",
       "      <th>9</th>\n",
       "      <td>normal</td>\n",
       "      <td>10000</td>\n",
       "      <td>0.000199</td>\n",
       "    </tr>\n",
       "    <tr>\n",
       "      <th>10</th>\n",
       "      <td>exponential</td>\n",
       "      <td>10000</td>\n",
       "      <td>0.000819</td>\n",
       "    </tr>\n",
       "    <tr>\n",
       "      <th>11</th>\n",
       "      <td>laplace</td>\n",
       "      <td>10000</td>\n",
       "      <td>0.001981</td>\n",
       "    </tr>\n",
       "  </tbody>\n",
       "</table>\n",
       "</div>"
      ],
      "text/plain": [
       "   distribution  n_samples  error_value\n",
       "0        normal         10     0.190318\n",
       "1   exponential         10     0.653938\n",
       "2       laplace         10     1.634741\n",
       "3        normal        100     0.019721\n",
       "4   exponential        100     0.084854\n",
       "5       laplace        100     0.203962\n",
       "6        normal       1000     0.002040\n",
       "7   exponential       1000     0.007414\n",
       "8       laplace       1000     0.018635\n",
       "9        normal      10000     0.000199\n",
       "10  exponential      10000     0.000819\n",
       "11      laplace      10000     0.001981"
      ]
     },
     "execution_count": 117,
     "metadata": {},
     "output_type": "execute_result"
    }
   ],
   "source": [
    "pd.DataFrame.from_records(results, columns=[\"distribution\", \"n_samples\", \"error_value\"])"
   ]
  },
  {
   "cell_type": "code",
   "execution_count": 120,
   "metadata": {},
   "outputs": [],
   "source": [
    "cauchy_variance = []\n",
    "for _ in range(100):\n",
    "    cauchy_variance.append(estimate_variance(stats.cauchy.rvs(size=1000)))"
   ]
  },
  {
   "cell_type": "code",
   "execution_count": 125,
   "metadata": {},
   "outputs": [
    {
     "name": "stdout",
     "output_type": "stream",
     "text": [
      "107767.65578872955\n",
      "71.52392924586856\n",
      "3708497.927826696\n",
      "493598.78166415653\n"
     ]
    }
   ],
   "source": [
    "cauchy_variance = np.array(cauchy_variance)\n",
    "print(f\"{cauchy_variance.mean()}\")\n",
    "print(f\"{cauchy_variance.min()}\")\n",
    "print(f\"{cauchy_variance.max()}\")\n",
    "print(f\"{np.std(cauchy_variance)}\")"
   ]
  },
  {
   "cell_type": "markdown",
   "metadata": {},
   "source": [
    "### Covariance"
   ]
  },
  {
   "cell_type": "code",
   "execution_count": 132,
   "metadata": {},
   "outputs": [],
   "source": [
    "X1 = np.random.rand(1000)\n",
    "X2 = 10 * X1"
   ]
  },
  {
   "cell_type": "code",
   "execution_count": 142,
   "metadata": {},
   "outputs": [
    {
     "data": {
      "text/plain": [
       "0.0004020597693588694"
      ]
     },
     "execution_count": 142,
     "metadata": {},
     "output_type": "execute_result"
    }
   ],
   "source": [
    "cov = []\n",
    "for _ in range(1000):\n",
    "    cov.append(estimate_covariance(stats.norm.rvs(size=1000), stats.norm.rvs(size=1000)))\n",
    "    \n",
    "np.array(cov).mean()"
   ]
  },
  {
   "cell_type": "code",
   "execution_count": 134,
   "metadata": {},
   "outputs": [
    {
     "data": {
      "text/plain": [
       "0.8192555432441715"
      ]
     },
     "execution_count": 134,
     "metadata": {},
     "output_type": "execute_result"
    }
   ],
   "source": [
    "estimate_covariance(X1, X2)"
   ]
  },
  {
   "cell_type": "code",
   "execution_count": 145,
   "metadata": {},
   "outputs": [
    {
     "name": "stdout",
     "output_type": "stream",
     "text": [
      "a = 1, b = 0 \n",
      "Cov(X, Y) = 0.08511228815671562\n",
      "\n",
      "a = 10, b = 0 \n",
      "Cov(X, Y) = 0.788856750214173\n",
      "\n",
      "a = 1, b = 10 \n",
      "Cov(X, Y) = 0.08401498333688107\n",
      "\n",
      "a = 10, b = 10 \n",
      "Cov(X, Y) = 0.8043440502115322\n",
      "\n",
      "a = -1, b = 0 \n",
      "Cov(X, Y) = -0.08411018988025501\n",
      "\n",
      "a = -10, b = 0 \n",
      "Cov(X, Y) = -0.8417273453675049\n",
      "\n",
      "a = -1, b = 10 \n",
      "Cov(X, Y) = -0.0837090439440571\n",
      "\n",
      "a = -10, b = -10 \n",
      "Cov(X, Y) = -0.8233225449569694\n",
      "\n"
     ]
    }
   ],
   "source": [
    "for a, b in [(1, 0), (10, 0), (1, 10), (10, 10), (-1, 0), (-10, 0), (-1, 10), (-10, -10)]:\n",
    "    X1 = np.random.rand(1000)\n",
    "    X2 = a * X1 + b\n",
    "    print(f\"a = {a}, b = {b} \\nCov(X, Y) = {estimate_covariance(X1, X2)}\", end=\"\\n\\n\")"
   ]
  },
  {
   "cell_type": "code",
   "execution_count": 148,
   "metadata": {},
   "outputs": [],
   "source": [
    "cov = []\n",
    "for a in np.linspace(0, 10, 1000):\n",
    "    X1 = np.random.rand(1000)\n",
    "    cov.append(estimate_covariance(X1, a*X1))"
   ]
  },
  {
   "cell_type": "code",
   "execution_count": 163,
   "metadata": {},
   "outputs": [
    {
     "data": {
      "image/png": "[encoded data removed]",
      "text/plain": [
       "<Figure size 1152x576 with 1 Axes>"
      ]
     },
     "metadata": {},
     "output_type": "display_data"
    }
   ],
   "source": [
    "figure = plt.figure(figsize=[16, 8])\n",
    "\n",
    "_ = sns.regplot(np.linspace(0, 10, 1000), cov, scatter_kws={\"s\": 10}, line_kws={\"color\": \"r\", \"linewidth\": 2.5})\n",
    "\n",
    "plt.savefig(\"../../images/estimates/covarriance.png\")"
   ]
  },
  {
   "cell_type": "markdown",
   "metadata": {},
   "source": [
    "### Correlation"
   ]
  },
  {
   "cell_type": "code",
   "execution_count": 194,
   "metadata": {},
   "outputs": [],
   "source": [
    "# X1 = np.random.rand(1000)\n",
    "X1 = stats.norm.rvs(size=1000)\n",
    "X2 = np.power(X1, 2)"
   ]
  },
  {
   "cell_type": "code",
   "execution_count": 195,
   "metadata": {},
   "outputs": [
    {
     "data": {
      "text/plain": [
       "-0.04111359982774698"
      ]
     },
     "execution_count": 195,
     "metadata": {},
     "output_type": "execute_result"
    }
   ],
   "source": [
    "estimate_correlation(X1, X2)"
   ]
  },
  {
   "cell_type": "code",
   "execution_count": 197,
   "metadata": {},
   "outputs": [
    {
     "name": "stdout",
     "output_type": "stream",
     "text": [
      "0.997364302693418\n",
      "0.9375000050292364\n",
      "0.06957309624388726\n"
     ]
    }
   ],
   "source": [
    "for X1 in (np.random.rand(1000), stats.norm.rvs(size=1000), stats.expon.rvs(size=1000)):\n",
    "    X2 = np.sin(X1)\n",
    "    print(estimate_correlation(X1, X2))"
   ]
  },
  {
   "cell_type": "code",
   "execution_count": null,
   "metadata": {},
   "outputs": [],
   "source": []
  }
 ],
 "metadata": {
  "kernelspec": {
   "display_name": "Python 3",
   "language": "python",
   "name": "python3"
  },
  "language_info": {
   "codemirror_mode": {
    "name": "ipython",
    "version": 3
   },
   "file_extension": ".py",
   "mimetype": "text/x-python",
   "name": "python",
   "nbconvert_exporter": "python",
   "pygments_lexer": "ipython3",
   "version": "3.6.9"
  }
 },
 "nbformat": 4,
 "nbformat_minor": 4
}
